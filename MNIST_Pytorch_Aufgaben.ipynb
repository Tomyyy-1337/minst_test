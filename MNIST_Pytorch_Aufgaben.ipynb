{
 "cells": [
  {
   "cell_type": "markdown",
   "metadata": {
    "id": "y-kxuNyo4Nhj"
   },
   "source": [
    "# 2. Übungsblatt: MNIST mit Pytorch\n",
    "Verschaffen Sie sich zunächst einen Überblick der Ordner-Strucktur. In dem Hauptordner sollten die drei Ordner:\n",
    "*   `train`\n",
    "*   `val`\n",
    "*   `test`\n",
    "\n",
    "\n",
    "enthalten sein. Jeder dieser Ordner enthält 10 Unterordner, mit den Namen 0, 1, ..., 9. In jedem dieser Ordner sind Graustufen-Bilder im png-Format enthalten.\n",
    "\n",
    "## 1. Daten einlesen (ToDo)\n",
    "Zunächst definieren wir den Pfad zum Hauptordner."
   ]
  },
  {
   "cell_type": "code",
   "execution_count": 1,
   "metadata": {
    "colab": {
     "base_uri": "https://localhost:8080/"
    },
    "id": "-T6D3KcN4OE7",
    "outputId": "82a2ee5c-c80a-4781-d760-c378c4914a67"
   },
   "outputs": [],
   "source": [
    "# Um Klassendefinition auf mehrere Zellen aufteilen zu können.\n",
    "# !{sys.executable} -m pip install jdc\n",
    "import jdc\n",
    "import os\n",
    "import sys\n",
    "import torch\n",
    "root_dir = os.path.abspath('..') + os.sep + \"MNIST\" + os.sep + \"MNIST\" + os.sep"
   ]
  },
  {
   "cell_type": "markdown",
   "metadata": {},
   "source": [
    "#### Seeds setzen (optional)\n",
    "Die Gewichte der Modelle werden in der Regel zufällig belegt, außerdem werden die Samples im Dataloader oft gemischt. Somit entsteht sehr viel Zufall, wovon die Ergebnisse stark abweichen können. Damit die Ergebnisse reproduzierbar sind, setzen wir entsprechende Seeds und deterministic-flags."
   ]
  },
  {
   "cell_type": "code",
   "execution_count": 2,
   "metadata": {},
   "outputs": [],
   "source": [
    "import numpy as np\n",
    "import random\n",
    "\n",
    "def seed_everything(seed):\n",
    "    random.seed(seed)\n",
    "    os.environ['PYTHONHASHSEED'] = str(seed)\n",
    "    np.random.seed(seed)\n",
    "    torch.manual_seed(seed)\n",
    "    torch.cuda.manual_seed(seed)\n",
    "    torch.cuda.manual_seed_all(seed)\n",
    "    torch.backends.cudnn.deterministic = True\n",
    "    torch.backends.cudnn.benchmark = False"
   ]
  },
  {
   "cell_type": "markdown",
   "metadata": {
    "id": "-Y_F-zG55LAm"
   },
   "source": [
    "## 2. Dataloader (ToDo)\n",
    "Erstellen Sie nun eine Subclass der Klasse Dataset von `torch.utils.data`. Dazu müssen Sie die folgenden drei Methoden überschreiben:\n",
    "\n",
    "*   `__init__(self)` Den Konstruktor kennen Sie bereit aus vorherigen Übungsblättern. Diesem können Sie noch weitere Parameter übergeben.\n",
    "*   `__len__(self)` Diese Methode soll eine natürliche Zahl zurück geben, die der Größe des Datensatzes entspricht.\n",
    "*   `__getitem__(self, idx)` Der Parameter `idx` spezifiziert das Sample das geladen werden soll.\n",
    "\n",
    "Tipps und Hinweise:\n",
    "1. Es könnte nützlich sein, dem Konstruktor zwei weitere Parameter zu übergeben, z.B. `root_dir` und `loader_mode`. `root_dir` wäre der Wert aus der Zelle zuvor und kann im Konstruktor genutzt werden um die Pfade der Bilder in einer Liste oder einem Array zu speichern. `loader_mode` könnte ein String wie z.B. \"train\", \"val\" oder \"test\" sein. Das kann sinnvoll sein, wenn wir für den Dataloader der für das Training verwendet wird, die Daten anders laden soll als z.B. der Dataloader für die Validierung oder den Test.\n",
    "2. Im Allgemeinen werden im Konstruktor lediglich die Pfade, jedoch nicht die Bilder selbst geladen. Das liegt daran, dass moderne Datensätze sehr groß sind. Wenn Sie dann alle Bilder laden würden, kann es schnell passieren, dass Ihr Arbeitsspeicher überläuft.\n",
    "3. Angenommen Ihr Dataloader soll die Trainingsbilder laden. Wenn Sie im Konstruktor eine Liste oder Array, aller Trainingsbilder erstellen, dann muss `__len__(self)` lediglich die Länge dieser Liste zurückgeben.\n",
    "4. Beachten Sie, dass unser Modell ein Multilayer Perzeptron ist, das heißt `__getitem__(self, idx)` muss zunächt das Bild laden und dann in einen Vektor der Größe 784 = Länge (28) * Breite (28) des Bildes transformieren. Hierfür können Sie die Zeilen einfach hintereinander schreiben und ggf. transponieren.\n",
    "5. Beachten Sie, dass Sie das geladene Bild (je nach verwendetem Package ein numpy-Array oder ein anderes Objekt) in ein Pytorch Tensor konvertieren müssen.\n",
    "6. Denken Sie daran, dass `__getitem__(self, idx)` nicht nur das Bild, sondern auch das Label des Bildes zurückgeben muss.\n",
    "\n",
    "\n",
    "Oftmals ist der Dataloader komplizierter als das Training des Modells. Das Training läuft oft nach dem gleichen Schema ab, wenn sich jedoch die Daten oder das zu verwendete Modell ändert, dann ändert sich meistens auch der Dataloader."
   ]
  },
  {
   "cell_type": "code",
   "execution_count": 3,
   "metadata": {
    "colab": {
     "base_uri": "https://localhost:8080/",
     "height": 483
    },
    "id": "hD74ZAbA5S87",
    "outputId": "e19ac994-969c-4c68-eb2a-d27ac1867a51"
   },
   "outputs": [],
   "source": [
    "import glob\n",
    "import torch\n",
    "import torchvision\n",
    "import cv2\n",
    "from tqdm import tqdm\n",
    "from torch.utils.data import Dataset\n",
    "\n",
    "\n",
    "class Simple_Dataloader(Dataset):\n",
    "    def __init__(self,root_dir,loader_mode):\n",
    "        self.root_dir = root_dir\n",
    "        self.loader_mode = loader_mode\n",
    "\n",
    "        self.data = torchvision.datasets.ImageFolder(self.root_dir + self.loader_mode)\n",
    "        \n",
    "        self.transform = torchvision.transforms.Compose([\n",
    "            torchvision.transforms.ToTensor()\n",
    "        ])\n",
    "\n",
    "    def __len__(self):\n",
    "        return len(self.data)\n",
    "\n",
    "    def __getitem__(self, idx):\n",
    "        img, lbl = self.data[idx]\n",
    "        # Transform Numpy Array into Pytorch Tensor\n",
    "        img_torch = self.transform(img)\n",
    "        \n",
    "        # Flatten Tensor\n",
    "        img_flattened = torch.flatten(img_torch)\n",
    "\n",
    "        return img_flattened, lbl"
   ]
  },
  {
   "cell_type": "markdown",
   "metadata": {},
   "source": [
    "## 3. Von Dataset zu Dataloader (nothing ToDo)\n",
    "Zuvor haben wir eine Subclass der Klasse Dataset erstellt. Damit ist klar, wie die Daten geladen und vorbereitet werden. In modernen Frameworks wie Pytorch, Tensorflow und Keras werden einzelne Sampels (in unserem Fall also Bilder) zu einer so genannten `Batch` gruppiert. Die Größe der Batch hängt in der Regel vom vorhandenen VRAM oder im Falle eines Trainings mit CPU vom Arbeitsspeicher ab. Oft werden Batchgrößen zwischen 8 und 128 verwendet. Bei einer Batch von 1, redet man oft auch von einer Mini-Batch. Das Trainieren mit einer Mini-Batch ist selten effektiv, da die Gewichte nach jedem Sample angepasst werden und dies die Konvergenz behindern kann. Wäre die Batch so groß wie der ganze Datensatz, dann wäre zwar das Modell perfekt auf unsere Trainingsdaten angepasst, aber möglicherweise die generallisierung nicht so gut, wie wenn eine kleinere Batch gewählt worden wäre. Daher wählt man auch bei sehr guter Hardware, selten eine Batch die größer ist als 512. Da die MNIST Bilder sehr klein sind, sollte eine Batch zwischen 32 und 128 machbar sein."
   ]
  },
  {
   "cell_type": "code",
   "execution_count": 4,
   "metadata": {},
   "outputs": [
    {
     "name": "stdout",
     "output_type": "stream",
     "text": [
      "Cache Data:\n"
     ]
    },
    {
     "data": {
      "text/plain": [
       "{'train': 42151, 'val': 17848, 'test': 10000}"
      ]
     },
     "execution_count": 4,
     "metadata": {},
     "output_type": "execute_result"
    }
   ],
   "source": [
    "batch_size_train = 120 # 88\n",
    "batch_size_val = 1\n",
    "\n",
    "seed_everything(1)\n",
    "\n",
    "print(\"Cache Data:\")\n",
    "\n",
    "train_dataset = Simple_Dataloader(root_dir=root_dir, loader_mode=\"train\")\n",
    "val_dataset = Simple_Dataloader(root_dir=root_dir, loader_mode=\"val\")\n",
    "test_dataset = Simple_Dataloader(root_dir=root_dir, loader_mode=\"test\")\n",
    "\n",
    "\n",
    "train_dataloader = torch.utils.data.DataLoader(train_dataset, batch_size=batch_size_train, pin_memory=True,\n",
    "                                               shuffle=True, drop_last=False)\n",
    "\n",
    "val_dataloader = torch.utils.data.DataLoader(val_dataset, batch_size=batch_size_val, pin_memory=True,\n",
    "                                             shuffle=False, drop_last=True)\n",
    "\n",
    "test_dataloader = torch.utils.data.DataLoader(test_dataset, batch_size=1, pin_memory=True,\n",
    "                                              shuffle=False, drop_last=False)\n",
    "\n",
    "dataset_sizes = dict()\n",
    "dataset_sizes[\"train\"] = len(train_dataset)\n",
    "dataset_sizes[\"val\"] = len(val_dataset)\n",
    "dataset_sizes[\"test\"] = len(test_dataset)\n",
    "dataset_sizes"
   ]
  },
  {
   "cell_type": "markdown",
   "metadata": {
    "id": "y1qGP1TOiSOn"
   },
   "source": [
    "## 4. Definition des Modells (ToDo)\n",
    "Jetzt sind wir bereit unser erstes MLP zu definieren. Betrachten wir hierzu folgende Modell-Vorlage:\n",
    "```\n",
    "input_layer = nn.Linear(784, 128)\n",
    "hidden1 = nn.Linear(128, 64)\n",
    "output_layer = nn.Linear(64, 10)\n",
    "```\n",
    "In dieser Aufgabe betrachten wir nur Fully-Connected Layers. Das sind Layer, in denen jedes Neuron des i-ten Layers mit jedem Neuron des (i+1)-ten Layers verbunden sind. In Pytorch verwendet man hierfür `nn.Linear(in_features, out_features)`. Da all unsere 28 x 28 Bilder zuvor zu einem Vektor mit 784 Einträgen konvertiert wurden, ist `in_features` im `input_layer` 784. Eine andere Zahl, die sich in dieser Aufgabe ebenfalls nicht ändert, ist die Anzahl der Klassen: Wir betrachten ausschließlich Bilder die Zahlen zwischen 0 und 9 zeigen. Daher hat der Parameter `out_features` im Layer `output_layer` den Wert 10. Für alle andere Zahlen gilt: Die Anzahl der `out_features` im Layer i, muss exakt mit der Anzahl der `in_features` im Layer i+1 übereinstimmen.\n",
    "\n",
    "Als nächstes betrachten wir die `forward(self, x)` Methode.\n",
    "```\n",
    "def forward(self, x):\n",
    "    x1 = torch.nn.functional.relu(self.input_layer(x))\n",
    "    x2 = torch.nn.functional.relu(self.hidden1(x1))\n",
    "    x_out = torch.nn.functional.relu(self.output_layer(x2))\n",
    "    return x_out\n",
    "```\n",
    "Bisher ist noch nicht klar in welcher Reihenfolge die zuvor definierten Layer angewendet werden und wir haben uns noch keine Gedanken um die Aktivierungsfunktionen gemacht. Wenn das Modell auf eine Eingabe angewendet wird, dann wird diese Methode aufgerufen, dabei ist `x` die Eingabe, also unser Vektor mit 784 Einträgen. In diesem Beispiel wird die Eingabe `x` zunächst auf den Layer `input_layer` angewendet und auf jedes der `out_features = 128` Neuronen wird die Aktivierungsfunktion `ReLu` angewendet. Dieses Zwischenergebnis speichern wir in der Variable `x1`. Nun nehmen wir dieses Zwischenergebnis (ein Vektor mit 128 Einträgen) und wenden den Layer `hidden1` darauf an und anschließend wenden wir wieder die Aktivierungsfunktion `ReLu` an. Das gleiche geschieht jetzt noch ein drittes Mal, bevor x_out (also ein Vektor mit 10 Einträgen) zurückgegeben wird. Da wir auch beim dritten Mal `ReLu` auf alle Ausgabeneuronen angewendet haben, liegt jeder Wert in `x_out im Bereich` $[0, \\infty[$\n",
    "\n",
    "\n",
    "**Definieren Sie ihr eigenes Modell, mit mindestens drei Hidden-Layern. Nach dem Training, sollte Ihr Modell mindestens einen F1-Score von 80% erreichen.**\n",
    "\n",
    "\n",
    "\n",
    "* [Hier](https://pytorch.org/docs/stable/nn.functional.html#non-linear-activation-functions) finden Sie eine Auswahl weiterer Aktivierungsfunktionen.\n",
    "* Tipp für Interessierte: Anstatt die Ausgabewerte nur von Layer i zu Layer i+1 und von dort zu Layer i+2 weiterzugeben, können sogenannte Skip-Connections verwendet werden. Damit werden zusätzlich zum normalen Verlauf noch die Informationen von Layer i direkt zu Layer i+2 gesendet. Somit bekommt Layer i+2 die Informationen von Layer i+1 und die von Layer i. Es gibt nun mehrere Möglichkeiten, wie wir mit diesen Zusatzinformationen umgehen können. Der klassische Ansatz ist der, dass Layer i und i+1 die gleiche Anzahl `n` Ausgabeneuronen haben und Layer i+2 eben genau `n` Eingabeneuronen besitzt. Dann werden die Ausgaben (inkl. Aktivierungsfunktion) von Layer i und i+1 addiert und als Eingabe für Layer i+2 verwendet. Es ist aber auch denkbar, dass beide Ausgaben konkateniert werden, dann muss Layer i+2 im Konstruktor entsprechend groß gewählt werden. Beispiel für Konkatenation: Wenn Layer i 128 Ausgabeneuronen und Layer (i+1) 64 Ausgabeneuronen hat, dann müsste Layer i+2 192 Eingabeneuronen haben. Durch diesen Trick können Ihre Ergebnisse deutlich verbessert werden."
   ]
  },
  {
   "cell_type": "code",
   "execution_count": 5,
   "metadata": {
    "id": "m07f2nxGia_o"
   },
   "outputs": [],
   "source": [
    "import torch.nn as nn\n",
    "\n",
    "class Our_first_MLP(nn.Module):\n",
    "    def __init__(self):\n",
    "        super(Our_first_MLP, self).__init__()\n",
    "        \n",
    "        # self.input_layer = nn.Linear(784, 128)\n",
    "        # self.hidden1 = nn.Linear(128, 64)\n",
    "        # self.output_layer = nn.Linear(64, 10)\n",
    "\n",
    "        self.input_layer = nn.Linear(784, 512)\n",
    "        self.hidden1 = nn.Linear(512, 128)\n",
    "        self.hidden2 = nn.Linear(128, 128)\n",
    "        self.hidden3 = nn.Linear(128, 64)\n",
    "        self.output_layer = nn.Linear(64, 10)\n",
    "\n",
    "        \n",
    "    def forward(self, x):\n",
    "        # x1 = torch.nn.functional.relu(self.input_layer(x))\n",
    "        # x2 = torch.nn.functional.relu(self.hidden1(x1))\n",
    "        # x_out = torch.nn.functional.relu(self.output_layer(x2))\n",
    "\n",
    "        x1 = torch.nn.functional.relu(self.input_layer(x))\n",
    "        x2 = torch.nn.functional.relu(self.hidden1(x1))\n",
    "        x3 = torch.nn.functional.relu(self.hidden2(x2))\n",
    "        x4 = torch.nn.functional.relu(self.hidden3(x3))\n",
    "        x_out = torch.nn.functional.relu(self.output_layer(x4))\n",
    "\n",
    "        return x_out"
   ]
  },
  {
   "cell_type": "markdown",
   "metadata": {
    "id": "fjphN2eIri9V"
   },
   "source": [
    "## 5. Fehlerfunktion und Hyperparameter definieren  (ToDo)\n",
    "Erstellen Sie zunächst eine Instanz Ihres Modells mit dem Namen `model`. Wenn Sie eine Grafikkarte verwenden, können Sie mit `model.to(device)` ihr Modell in den VRAM laden um später das Training zu beschleunigen. Wenn Sie das machen, müssen Sie aber später im Training darauf achten, dass Ihre Eingabedaten und Labels ebenfalls in die Grafikkarte geladen werden. Das können Sie ebenfalls mit `.to(device)` machen.\n",
    "\n",
    "\n",
    "Als Optimierer, kennen Sie aus der Vorlesung bereits den _Gradient Descent_. Wir benötigen den Optimier später im Training um die Gewichte so anzupassen, dass der Fehler minimiert wird. Da wir - wie oben beschrieben - unsere Gewichte nicht für alle Samples auf einmal anpassen (da batch size < Anzahl Samples im Datensatz) verwenden wir den _Stochastic Gradient Descent (SGD)_. Es gibt aber auch \"verbesserte\" Ansätze wie z.B. Adam. \n",
    "\n",
    "Pro-Tipp (nicht prüfungsrelevant):\n",
    "Ein Problem bei SGD ist, dass die Lernrate eine \"globale Lernrate\" ist und somit für alle Richtungen gleich bleibt. Bei mehrdimensionalen Funktionen kann das aber zum Problem werden. Denn wenn Ihre aktuellen Gewichte eine Position auf der mehrdimensionalen Funktion beschreiben, die in einer Dimension ein Plateau ist und in einer anderen Richtung eine sehr starke Steigung hat, dann würde SGD in der Richtung des Plateaus sich kaum bewegen und in der Richtung der starken Steigung einen sehr großen Sprung machen. Um das zu verhindern führt Adam eine adaptive Lernrate für jede Richtung/Dimension ein ein. Diese sorgt dafür, dass in Richtungen eines Plateaus größere Sprünge gemacht werden als in Richtungen mit starken Steigungen. Adam hat sich daher als sehr effektiv herausgestellt und konvergiert viel schneller als SGD. Das ist allerdings keine Garantie dafür, dass das Minimum in dem Adam landet auch stets besser ist als das mit SGD.\n",
    "\n",
    "Als Hyperparameter betrachten wir aktuell nur die Lernrate `cur_lr`. Weitere Parameter hängen zum Teil auch von dem verwendeten Optimierer ab. [Hier](https://pytorch.org/docs/stable/optim.html#algorithms) finden Sie eine Übersicht möglicher Optimierer und ihrer Parameter."
   ]
  },
  {
   "cell_type": "code",
   "execution_count": 6,
   "metadata": {
    "id": "Vjp0wXskieiZ"
   },
   "outputs": [],
   "source": [
    "device = torch.device(\"cuda:0\" if torch.cuda.is_available() else \"cpu\")\n",
    "\n",
    "model = Our_first_MLP()\n",
    "model = model.to(device)\n",
    "\n",
    "cur_lr = 0.01# ToDo\n",
    "\n",
    "optimizer = torch.optim.Adam(model.parameters(), lr=cur_lr)\n",
    "\n",
    "criterion = nn.CrossEntropyLoss()\n",
    "\n",
    "num_epochs = 15"
   ]
  },
  {
   "cell_type": "markdown",
   "metadata": {},
   "source": [
    "## 6. Training und Validierung implementieren (ToDo)\n",
    "Jetzt sollen Sie das Training und die Validierung implementieren. Um den Aufbau besser erklären zu können führen wir zunächst drei neue Wörter ein:\n",
    "\n",
    "1. Epoche: Eine Epoche beschreibt eine vollständige Trainings- und Validierungsphase.\n",
    "2. Phase: Es gibt die Trainings- und die Validierungsphase. Die Validierungsphase folgt immer nach der Trainingsphase.\n",
    "3. Iteration: Zuvor haben wir schon über eine Batch geredet. Der Dataloader läd also eine Batch und die zugehörigen Labels. Bei einer Datensatzgröße von $n$ Samples, entstehen $\\big \\lfloor\\frac{n}{\\text{batch size}} \\big  \\rfloor$ Batches. In jeder Phase iterieren wir über alle Batches. Einen dieser Schleifendurchläufe nennen wir Iteration.\n",
    "\n",
    "Bei der Implementierung können sich an folgender Struktur orientieren:\n",
    "1. Zunächt benötigen wir eine Schleife die über alle Epochen läuft, also von 1 bis `num_epochs`.\n",
    "2. Die Phasen können direkt hintereinander implementiert werden oder als Schleife mit zwei Durchläufen, einmal für die Trainingsphase und einmal für die Validierungsphase. Das hintereinander Schreiben ist für viele (Anfänger) intuitiver.\n",
    "   2.1. In der Trainingsphase setzen wir das Modell auf trainieren und verwenden hierfür: `model.train()`  \n",
    "   2.2. In der Validierungsphase setzen wir das Modell auf evaluieren und verwenden hierfür: `model.eval()` \n",
    "3. Für die Iterationen benötigen wir wieder eine Schleife, z.B. von der Form: `for inputs, labels in train_dataloader:`  \n",
    "   3.1. Wenn Sie für das Training eine Grafikkarte verwenden und zuvor das Modell in die Grafikkarte geladen haben, dann müssen Sie auch ihre Eingaben und label auf die Grafikkarte laden. Das können Sie so machen: `inputs = inputs.to(device)`\n",
    "4. Gewichte werden nur in der Trainingsphase angepasst, nicht in der Valdierungsphase.\n",
    "5. In jeder Iteration sollten Sie mit `optimizer.zero_grad()` die Gradienten zurück auf 0 setzen. Ohne zu sehr ins Detail zu gehen: `optimizer.zero_grad()` muss nicht zwingend in jeder Iteration zurückgesetzt werden, ist für uns aber einfacher.\n",
    "6. Um das Training nicht unnötig zu verlangsamen, sollten wir Pytorch mitteilen, wann wir uns in der Trainingsphase befinden. Dies können wir mit  \n",
    "`with torch.set_grad_enabled(phase == 'train'):`  \n",
    "   machen. Dadurch weiß Pytorch ob im Loss die Graidenten berechnet werden müssen oder nicht. In der Validierungsphase werden wir die Gewichte nicht anpassen, daher benötigen wir auch keine Gradientenberechnung.\n",
    "7. Direkt danach, können wir mittles `outputs = model(inputs)` die Modellausgabe für unsere Batch `inputs` berechnen.\n",
    "8. Anschließend berechnen wir den Fehler zwischen der Modellausgabe und der erwarteten Ausgabe (dem Ground Truth): `loss = criterion(outputs, labels)`.\n",
    "9. Bevor wir den `with torch.set_grad_enabled(phase == 'train'):` Block verlassen, müssen wir mittels `loss.backward()` den Fehler zu allen Gewichten zurückpropagieren und anschließend mit Hilfe von `optimizer.step()` die Gewichte aktualisieren.\n",
    "10. Damit wir erkennen ob unser Modell overfitted, berechnen wir ein Trainingsloss und ein Validierungsloss.\n",
    "\n",
    "Hinweise:  \n",
    "Auf der Pytorch Website finden Sie einige gute Beispiele und Tutorials.  \n",
    "* [Hier](https://pytorch.org/tutorials/beginner/blitz/cifar10_tutorial.html#train-the-network) finden Sie z.B. ein Beispiel für ein Training und weiter unten wird auch auf die Testfunktion eingegangen.\n"
   ]
  },
  {
   "cell_type": "code",
   "execution_count": 7,
   "metadata": {
    "id": "Vjp0wXskieiZ"
   },
   "outputs": [],
   "source": [
    "import sys\n",
    "from tqdm import tqdm\n",
    "\n",
    "\n",
    "\n",
    "def train_model(train_dataloader, val_dataloader):\n",
    "    \n",
    "\n",
    "    for epoch in range(num_epochs):\n",
    "        train_running_loss = 0.0\n",
    "        eval_running_loss = 0.0\n",
    "        model.train()\n",
    "        for inputs, labels in train_dataloader:\n",
    "            inputs = inputs[:, :784] + inputs[:, 784:1568] + inputs[:, 1568:]\n",
    "            inputs = inputs.to(device)\n",
    "            labels = labels.to(device)\n",
    "            optimizer.zero_grad()\n",
    "\n",
    "            outputs = model(inputs)\n",
    "            loss = criterion(outputs, labels)\n",
    "            loss.backward()\n",
    "            optimizer.step()\n",
    "\n",
    "            train_running_loss += loss.item()  \n",
    "        model.eval()\n",
    "        with torch.no_grad():\n",
    "            for inputs, labels in val_dataloader:\n",
    "                inputs = inputs[:, :784] + inputs[:, 784:1568] + inputs[:, 1568:]\n",
    "                inputs = inputs.to(device)\n",
    "                labels = labels.to(device)\n",
    "\n",
    "                outputs = model(inputs)\n",
    "                loss = criterion(outputs, labels)\n",
    "\n",
    "                eval_running_loss += loss.item()\n",
    "        print(f'[{epoch+1}] loss: {train_running_loss/train_dataloader.__len__()}')\n",
    "        print(f'[{epoch+1}] loss: {eval_running_loss/val_dataloader.__len__()}')"
   ]
  },
  {
   "cell_type": "markdown",
   "metadata": {},
   "source": [
    "### 6.1. Training durchführen (nothing ToDo)\n",
    "Führen Sie die Trainingsmethode aus."
   ]
  },
  {
   "cell_type": "code",
   "execution_count": 8,
   "metadata": {
    "scrolled": false
   },
   "outputs": [
    {
     "name": "stdout",
     "output_type": "stream",
     "text": [
      "[1] loss: 1.1759179134599187\n",
      "[1] loss: 1.006264870281649\n",
      "[2] loss: 0.9055809748613022\n",
      "[2] loss: 0.7995217008691391\n",
      "[3] loss: 0.6944960331205617\n",
      "[3] loss: 0.5233112127420593\n",
      "[4] loss: 0.4075953850353306\n",
      "[4] loss: 0.28204922039576535\n",
      "[5] loss: 0.20874798854558982\n",
      "[5] loss: 0.225915537046003\n",
      "[6] loss: 0.18343806799649345\n",
      "[6] loss: 0.19323528502481913\n",
      "[7] loss: 0.15404762238242917\n",
      "[7] loss: 0.27400029045571594\n",
      "[8] loss: 0.16542397671252151\n",
      "[8] loss: 0.2159444648764973\n",
      "[9] loss: 0.14345026952849532\n",
      "[9] loss: 0.19414913317727978\n",
      "[10] loss: 0.127462351012086\n",
      "[10] loss: 0.20735621766649512\n",
      "[11] loss: 0.10661548723477278\n",
      "[11] loss: 0.15725502685158266\n",
      "[12] loss: 0.10214126663049683\n",
      "[12] loss: 0.18453168080365476\n",
      "[13] loss: 0.11564940270181978\n",
      "[13] loss: 0.19905248215402283\n",
      "[14] loss: 0.15833381971010982\n",
      "[14] loss: 0.18521059162743186\n",
      "[15] loss: 0.16977120307009583\n",
      "[15] loss: 0.28711414492761206\n"
     ]
    }
   ],
   "source": [
    "train_model(train_dataloader, val_dataloader)"
   ]
  },
  {
   "cell_type": "markdown",
   "metadata": {},
   "source": [
    "## 7. Evaluierung (ToDo)\n",
    "### 7.1. Metriken berechnen (ToDo)\n",
    "Implementieren Sie eine Funktion, die die Precision, Recall und F1-Score für eine gegebene Confusion Matrix berechnet."
   ]
  },
  {
   "cell_type": "code",
   "execution_count": 9,
   "metadata": {},
   "outputs": [],
   "source": [
    "from sklearn.metrics import confusion_matrix\n",
    "def calculate_metrics_from_confusion_matrix(conf_matrix):\n",
    "    # Calculate True Positives, False Positives, False Negatives\n",
    "    TP = conf_matrix.diagonal() #Calculate True Positives\n",
    "    FP = conf_matrix.sum(axis=0) - TP #Calculate False Positives\n",
    "    FN = conf_matrix.sum(axis=1) - TP #Calculate False Positives\n",
    "\n",
    "    #Precision\n",
    "    precision = TP / (TP + FP)\n",
    "    precision = precision.mean()\n",
    "\n",
    "    #Recall\n",
    "    recall = TP / (TP + FN)\n",
    "    recall = recall.mean()\n",
    "\n",
    "    #F1-score\n",
    "    f1 = 2 * (precision * recall) / (precision + recall)\n",
    "\n",
    "    return precision, recall, f1"
   ]
  },
  {
   "cell_type": "markdown",
   "metadata": {
    "id": "bGMPgfmHtT3i"
   },
   "source": [
    "### 7.2. Test-Funktion implementieren (ToDo)\n",
    "Implementieren Sie nun die Test Funktion. Das Vorgehen ist ähnlich zur Validierungsphase, mit dem Unterschied, dass sie kein Loss berechnen sollen, sondern die klassifizierten Ergebnisse in eine Confusion-Matrix eintragen. Nachdem alle Samples klassifiziert und in der Confusion Matrix gespeichert wurden, soll die Confusion Matrix an die obige Funktion zur Berechung der Precision, Recall und F1-Score übergeben werden."
   ]
  },
  {
   "cell_type": "code",
   "execution_count": 10,
   "metadata": {
    "id": "EVKFItU9jA0l"
   },
   "outputs": [],
   "source": [
    "def test_model(test_dataset, save_data=True):\n",
    "    \n",
    "    model.eval()\n",
    "    all_predictions = []\n",
    "    all_labels = []\n",
    "\n",
    "    with torch.no_grad():\n",
    "        for inputs, labels in test_dataloader:\n",
    "            inputs = inputs[:, :784] + inputs[:, 784:1568] + inputs[:, 1568:]\n",
    "            inputs = inputs.to(device)\n",
    "            labels = labels.to(device)\n",
    "\n",
    "            outputs = model(inputs)\n",
    "            predictions = torch.argmax(outputs, dim=1) #predicted number\n",
    "            all_predictions.extend(predictions.cpu().numpy()) #accumulte predictions\n",
    "            all_labels.extend(labels.cpu().numpy())\n",
    "\n",
    "    test_confusion_mat = confusion_matrix(all_labels, all_predictions)\n",
    "    return test_confusion_mat"
   ]
  },
  {
   "cell_type": "markdown",
   "metadata": {
    "id": "m9ulmocTw7VL"
   },
   "source": [
    "### 7.3. Test durchführen (ToDo)\n",
    "Führen Sie den Test aus und geben Sie die Precision, Recall und F1-Score aus."
   ]
  },
  {
   "cell_type": "code",
   "execution_count": 11,
   "metadata": {},
   "outputs": [
    {
     "data": {
      "text/plain": [
       "(0.9522863498515083, 0.9506780289280103, 0.951481509740623)"
      ]
     },
     "execution_count": 11,
     "metadata": {},
     "output_type": "execute_result"
    }
   ],
   "source": [
    "calculate_metrics_from_confusion_matrix(test_model(test_dataset, save_data=True))"
   ]
  },
  {
   "cell_type": "markdown",
   "metadata": {},
   "source": [
    "## 8. Visualisieren der Ergebnisse (ToDo)\n",
    "Visualisieren Sie die Confusion Matrix."
   ]
  },
  {
   "cell_type": "code",
   "execution_count": 12,
   "metadata": {},
   "outputs": [
    {
     "name": "stdout",
     "output_type": "stream",
     "text": [
      "Precicision:  95.23%\n",
      "Recall:  95.07%\n",
      "F1-Score:  95.15%\n"
     ]
    },
    {
     "data": {
      "image/png": "[encoded data removed]",
      "text/plain": [
       "<Figure size 1600x1000 with 2 Axes>"
      ]
     },
     "metadata": {},
     "output_type": "display_data"
    }
   ],
   "source": [
    "import matplotlib.pyplot as plt\n",
    "import seaborn as sns\n",
    "import pandas as pd\n",
    "\n",
    "cm = test_model(test_dataset, save_data=True)\n",
    "e = calculate_metrics_from_confusion_matrix(cm)\n",
    "\n",
    "print(\"Precicision: \", \"{:.2%}\".format(e[0]))\n",
    "print(\"Recall: \", \"{:.2%}\".format(e[1]))\n",
    "print(\"F1-Score: \", \"{:.2%}\".format(e[2]))\n",
    "\n",
    "def confusion_matrix_plot(cm):\n",
    "    plt.figure(figsize=(16, 10)) \n",
    "    sns.heatmap(cm, annot=True, fmt=\"d\", cmap=\"YlGnBu\")  \n",
    "    plt.ylabel('True label')\n",
    "    plt.xlabel('Predicted label')\n",
    "    plt.show()\n",
    "\n",
    "confusion_matrix_plot(cm)"
   ]
  },
  {
   "cell_type": "code",
   "execution_count": null,
   "metadata": {},
   "outputs": [],
   "source": []
  },
  {
   "cell_type": "code",
   "execution_count": null,
   "metadata": {},
   "outputs": [],
   "source": []
  }
 ],
 "metadata": {
  "colab": {
   "collapsed_sections": [],
   "name": "2_Übungsblatt_neue_Anordnung_der_Aufgaben(Perzeptron).ipynb",
   "provenance": []
  },
  "kernelspec": {
   "display_name": "Python 3 (ipykernel)",
   "language": "python",
   "name": "python3"
  },
  "language_info": {
   "codemirror_mode": {
    "name": "ipython",
    "version": 3
   },
   "file_extension": ".py",
   "mimetype": "text/x-python",
   "name": "python",
   "nbconvert_exporter": "python",
   "pygments_lexer": "ipython3",
   "version": "3.11.2"
  }
 },
 "nbformat": 4,
 "nbformat_minor": 1
}
